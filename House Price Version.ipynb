{
 "cells": [
  {
   "cell_type": "code",
   "execution_count": 1,
   "metadata": {},
   "outputs": [],
   "source": [
    "import numpy as np # linear algebra\n",
    "import pandas as pd # data processing, CSV file I/O (e.g. pd.read_csv)\n",
    "from datetime import datetime\n",
    "from scipy.stats import skew  # for some statistics\n",
    "from scipy.special import boxcox1p\n",
    "from scipy.stats import boxcox_normmax\n",
    "from sklearn.linear_model import ElasticNetCV, LassoCV, RidgeCV\n",
    "from sklearn.ensemble import GradientBoostingRegressor\n",
    "from sklearn.svm import SVR\n",
    "from sklearn.pipeline import make_pipeline\n",
    "from sklearn.preprocessing import RobustScaler\n",
    "from sklearn.model_selection import KFold, cross_val_score\n",
    "from sklearn.metrics import mean_squared_error\n",
    "from mlxtend.regressor import StackingCVRegressor\n",
    "from xgboost import XGBRegressor\n",
    "from lightgbm import LGBMRegressor\n",
    "import matplotlib.pyplot as plt\n",
    "import scipy.stats as stats\n",
    "import sklearn.linear_model as linear_model\n",
    "import seaborn as sns\n",
    "from sklearn.manifold import TSNE\n",
    "from sklearn.cluster import KMeans\n",
    "from sklearn.decomposition import PCA\n",
    "from sklearn.preprocessing import StandardScaler\n",
    "\n",
    "import warnings\n",
    "warnings.filterwarnings('ignore')\n",
    "warnings.filterwarnings(action='once')"
   ]
  },
  {
   "cell_type": "markdown",
   "metadata": {},
   "source": [
    "## Load Data"
   ]
  },
  {
   "cell_type": "code",
   "execution_count": 2,
   "metadata": {},
   "outputs": [
    {
     "name": "stdout",
     "output_type": "stream",
     "text": [
      "Data is loaded!\n"
     ]
    },
    {
     "name": "stderr",
     "output_type": "stream",
     "text": [
      "C:\\Users\\ooo\\AppData\\Local\\R-MINI~1\\lib\\site-packages\\ipykernel\\ipkernel.py:287: DeprecationWarning: `should_run_async` will not call `transform_cell` automatically in the future. Please pass the result to `transformed_cell` argument and any exception that happen during thetransform in `preprocessing_exc_tuple` in IPython 7.17 and above.\n",
      "  and should_run_async(code)\n"
     ]
    }
   ],
   "source": [
    "train = pd.read_csv('./data/train.csv')\n",
    "test = pd.read_csv('./data/test.csv')\n",
    "print (\"Data is loaded!\")"
   ]
  },
  {
   "cell_type": "code",
   "execution_count": 3,
   "metadata": {},
   "outputs": [
    {
     "name": "stdout",
     "output_type": "stream",
     "text": [
      "Train:  1460 sales, and  81 features\n",
      "Test:  1459 sales, and  80 features\n"
     ]
    }
   ],
   "source": [
    "print (\"Train: \",train.shape[0],\"sales, and \",train.shape[1],\"features\")\n",
    "print (\"Test: \",test.shape[0],\"sales, and \",test.shape[1],\"features\")"
   ]
  },
  {
   "cell_type": "code",
   "execution_count": 4,
   "metadata": {},
   "outputs": [],
   "source": [
    "y = train['SalePrice'].reset_index(drop=True)\n",
    "\n",
    "train.drop(['SalePrice'], axis=1, inplace=True)\n",
    "train.drop(['Id'], axis=1, inplace=True) #inplace：不创建新的frame\n",
    "test.drop(['Id'], axis=1, inplace=True)"
   ]
  },
  {
   "cell_type": "code",
   "execution_count": 5,
   "metadata": {},
   "outputs": [
    {
     "name": "stdout",
     "output_type": "stream",
     "text": [
      "Shape of all features :  (2919, 79)\n"
     ]
    }
   ],
   "source": [
    "features = pd.concat([train, test]).reset_index(drop=True)\n",
    "print(\"Shape of all features : \",features.shape)"
   ]
  },
  {
   "cell_type": "code",
   "execution_count": 6,
   "metadata": {},
   "outputs": [
    {
     "data": {
      "text/html": [
       "<div>\n",
       "<style scoped>\n",
       "    .dataframe tbody tr th:only-of-type {\n",
       "        vertical-align: middle;\n",
       "    }\n",
       "\n",
       "    .dataframe tbody tr th {\n",
       "        vertical-align: top;\n",
       "    }\n",
       "\n",
       "    .dataframe thead th {\n",
       "        text-align: right;\n",
       "    }\n",
       "</style>\n",
       "<table border=\"1\" class=\"dataframe\">\n",
       "  <thead>\n",
       "    <tr style=\"text-align: right;\">\n",
       "      <th></th>\n",
       "      <th>MSSubClass</th>\n",
       "      <th>MSZoning</th>\n",
       "      <th>LotFrontage</th>\n",
       "      <th>LotArea</th>\n",
       "      <th>Street</th>\n",
       "      <th>Alley</th>\n",
       "      <th>LotShape</th>\n",
       "      <th>LandContour</th>\n",
       "      <th>Utilities</th>\n",
       "      <th>LotConfig</th>\n",
       "      <th>...</th>\n",
       "      <th>ScreenPorch</th>\n",
       "      <th>PoolArea</th>\n",
       "      <th>PoolQC</th>\n",
       "      <th>Fence</th>\n",
       "      <th>MiscFeature</th>\n",
       "      <th>MiscVal</th>\n",
       "      <th>MoSold</th>\n",
       "      <th>YrSold</th>\n",
       "      <th>SaleType</th>\n",
       "      <th>SaleCondition</th>\n",
       "    </tr>\n",
       "  </thead>\n",
       "  <tbody>\n",
       "    <tr>\n",
       "      <th>0</th>\n",
       "      <td>60</td>\n",
       "      <td>RL</td>\n",
       "      <td>65.0</td>\n",
       "      <td>8450</td>\n",
       "      <td>Pave</td>\n",
       "      <td>NaN</td>\n",
       "      <td>Reg</td>\n",
       "      <td>Lvl</td>\n",
       "      <td>AllPub</td>\n",
       "      <td>Inside</td>\n",
       "      <td>...</td>\n",
       "      <td>0</td>\n",
       "      <td>0</td>\n",
       "      <td>NaN</td>\n",
       "      <td>NaN</td>\n",
       "      <td>NaN</td>\n",
       "      <td>0</td>\n",
       "      <td>2</td>\n",
       "      <td>2008</td>\n",
       "      <td>WD</td>\n",
       "      <td>Normal</td>\n",
       "    </tr>\n",
       "    <tr>\n",
       "      <th>1</th>\n",
       "      <td>20</td>\n",
       "      <td>RL</td>\n",
       "      <td>80.0</td>\n",
       "      <td>9600</td>\n",
       "      <td>Pave</td>\n",
       "      <td>NaN</td>\n",
       "      <td>Reg</td>\n",
       "      <td>Lvl</td>\n",
       "      <td>AllPub</td>\n",
       "      <td>FR2</td>\n",
       "      <td>...</td>\n",
       "      <td>0</td>\n",
       "      <td>0</td>\n",
       "      <td>NaN</td>\n",
       "      <td>NaN</td>\n",
       "      <td>NaN</td>\n",
       "      <td>0</td>\n",
       "      <td>5</td>\n",
       "      <td>2007</td>\n",
       "      <td>WD</td>\n",
       "      <td>Normal</td>\n",
       "    </tr>\n",
       "    <tr>\n",
       "      <th>2</th>\n",
       "      <td>60</td>\n",
       "      <td>RL</td>\n",
       "      <td>68.0</td>\n",
       "      <td>11250</td>\n",
       "      <td>Pave</td>\n",
       "      <td>NaN</td>\n",
       "      <td>IR1</td>\n",
       "      <td>Lvl</td>\n",
       "      <td>AllPub</td>\n",
       "      <td>Inside</td>\n",
       "      <td>...</td>\n",
       "      <td>0</td>\n",
       "      <td>0</td>\n",
       "      <td>NaN</td>\n",
       "      <td>NaN</td>\n",
       "      <td>NaN</td>\n",
       "      <td>0</td>\n",
       "      <td>9</td>\n",
       "      <td>2008</td>\n",
       "      <td>WD</td>\n",
       "      <td>Normal</td>\n",
       "    </tr>\n",
       "    <tr>\n",
       "      <th>3</th>\n",
       "      <td>70</td>\n",
       "      <td>RL</td>\n",
       "      <td>60.0</td>\n",
       "      <td>9550</td>\n",
       "      <td>Pave</td>\n",
       "      <td>NaN</td>\n",
       "      <td>IR1</td>\n",
       "      <td>Lvl</td>\n",
       "      <td>AllPub</td>\n",
       "      <td>Corner</td>\n",
       "      <td>...</td>\n",
       "      <td>0</td>\n",
       "      <td>0</td>\n",
       "      <td>NaN</td>\n",
       "      <td>NaN</td>\n",
       "      <td>NaN</td>\n",
       "      <td>0</td>\n",
       "      <td>2</td>\n",
       "      <td>2006</td>\n",
       "      <td>WD</td>\n",
       "      <td>Abnorml</td>\n",
       "    </tr>\n",
       "    <tr>\n",
       "      <th>4</th>\n",
       "      <td>60</td>\n",
       "      <td>RL</td>\n",
       "      <td>84.0</td>\n",
       "      <td>14260</td>\n",
       "      <td>Pave</td>\n",
       "      <td>NaN</td>\n",
       "      <td>IR1</td>\n",
       "      <td>Lvl</td>\n",
       "      <td>AllPub</td>\n",
       "      <td>FR2</td>\n",
       "      <td>...</td>\n",
       "      <td>0</td>\n",
       "      <td>0</td>\n",
       "      <td>NaN</td>\n",
       "      <td>NaN</td>\n",
       "      <td>NaN</td>\n",
       "      <td>0</td>\n",
       "      <td>12</td>\n",
       "      <td>2008</td>\n",
       "      <td>WD</td>\n",
       "      <td>Normal</td>\n",
       "    </tr>\n",
       "  </tbody>\n",
       "</table>\n",
       "<p>5 rows × 79 columns</p>\n",
       "</div>"
      ],
      "text/plain": [
       "   MSSubClass MSZoning  LotFrontage  LotArea Street Alley LotShape  \\\n",
       "0          60       RL         65.0     8450   Pave   NaN      Reg   \n",
       "1          20       RL         80.0     9600   Pave   NaN      Reg   \n",
       "2          60       RL         68.0    11250   Pave   NaN      IR1   \n",
       "3          70       RL         60.0     9550   Pave   NaN      IR1   \n",
       "4          60       RL         84.0    14260   Pave   NaN      IR1   \n",
       "\n",
       "  LandContour Utilities LotConfig  ... ScreenPorch PoolArea PoolQC Fence  \\\n",
       "0         Lvl    AllPub    Inside  ...           0        0    NaN   NaN   \n",
       "1         Lvl    AllPub       FR2  ...           0        0    NaN   NaN   \n",
       "2         Lvl    AllPub    Inside  ...           0        0    NaN   NaN   \n",
       "3         Lvl    AllPub    Corner  ...           0        0    NaN   NaN   \n",
       "4         Lvl    AllPub       FR2  ...           0        0    NaN   NaN   \n",
       "\n",
       "  MiscFeature MiscVal  MoSold  YrSold  SaleType  SaleCondition  \n",
       "0         NaN       0       2    2008        WD         Normal  \n",
       "1         NaN       0       5    2007        WD         Normal  \n",
       "2         NaN       0       9    2008        WD         Normal  \n",
       "3         NaN       0       2    2006        WD        Abnorml  \n",
       "4         NaN       0      12    2008        WD         Normal  \n",
       "\n",
       "[5 rows x 79 columns]"
      ]
     },
     "execution_count": 6,
     "metadata": {},
     "output_type": "execute_result"
    }
   ],
   "source": [
    "train.head()"
   ]
  },
  {
   "cell_type": "markdown",
   "metadata": {},
   "source": [
    "## Data Cleaning"
   ]
  },
  {
   "cell_type": "markdown",
   "metadata": {},
   "source": [
    "### Outlier"
   ]
  },
  {
   "cell_type": "code",
   "execution_count": 6,
   "metadata": {},
   "outputs": [
    {
     "data": {
      "text/plain": [
       "<matplotlib.lines.Line2D at 0x22d32bc1430>"
      ]
     },
     "execution_count": 6,
     "metadata": {},
     "output_type": "execute_result"
    },
    {
     "data": {
      "image/png": "[encoded data removed]",
      "text/plain": [
       "<Figure size 432x288 with 1 Axes>"
      ]
     },
     "metadata": {
      "needs_background": "light"
     },
     "output_type": "display_data"
    }
   ],
   "source": [
    "# GrLivArea: a quantitative feature\n",
    "sns.scatterplot(data=train, x=train['GrLivArea'], y=y)\n",
    "plt.axvline(4600, 0)"
   ]
  },
  {
   "cell_type": "code",
   "execution_count": 7,
   "metadata": {},
   "outputs": [
    {
     "name": "stderr",
     "output_type": "stream",
     "text": [
      "C:\\Users\\ooo\\AppData\\Local\\R-MINI~1\\lib\\site-packages\\ipykernel\\ipkernel.py:287: DeprecationWarning: `should_run_async` will not call `transform_cell` automatically in the future. Please pass the result to `transformed_cell` argument and any exception that happen during thetransform in `preprocessing_exc_tuple` in IPython 7.17 and above.\n",
      "  and should_run_async(code)\n"
     ]
    }
   ],
   "source": [
    "idx = train[train['GrLivArea'] > 4600].index\n",
    "features = features.drop(features.index[idx]).reset_index(drop=True)\n",
    "y = y.drop(y.index[idx]).reset_index(drop=True)"
   ]
  },
  {
   "cell_type": "code",
   "execution_count": 8,
   "metadata": {},
   "outputs": [
    {
     "data": {
      "text/plain": [
       "((2917, 79), (1458,))"
      ]
     },
     "execution_count": 8,
     "metadata": {},
     "output_type": "execute_result"
    }
   ],
   "source": [
    "features.shape, y.shape #train.shape"
   ]
  },
  {
   "cell_type": "markdown",
   "metadata": {},
   "source": [
    "## Data Transform"
   ]
  },
  {
   "cell_type": "markdown",
   "metadata": {},
   "source": [
    "### 数据类型"
   ]
  },
  {
   "cell_type": "code",
   "execution_count": 9,
   "metadata": {},
   "outputs": [],
   "source": [
    "features['MSSubClass'] = features['MSSubClass'].apply(str)\n",
    "features['YrSold'] = features['YrSold'].astype(str)\n",
    "features['MoSold'] = features['MoSold'].astype(str)"
   ]
  },
  {
   "cell_type": "code",
   "execution_count": 10,
   "metadata": {},
   "outputs": [
    {
     "name": "stdout",
     "output_type": "stream",
     "text": [
      "<class 'list'>\n",
      "length of quantitative features :  33\n",
      "length of qualitative features :  46\n"
     ]
    }
   ],
   "source": [
    "quantitative = [i for i in features.columns if features.dtypes[i] != 'object']\n",
    "qualitative = [i for i in features.columns if features.dtypes[i] == 'object']\n",
    "\n",
    "print(type(quantitative))\n",
    "print(\"length of quantitative features : \",len(quantitative))\n",
    "print(\"length of qualitative features : \",len(qualitative))"
   ]
  },
  {
   "cell_type": "markdown",
   "metadata": {},
   "source": [
    "\n",
    "### 缺失值"
   ]
  },
  {
   "cell_type": "code",
   "execution_count": 11,
   "metadata": {},
   "outputs": [
    {
     "name": "stdout",
     "output_type": "stream",
     "text": [
      "Missing features who's important: Index(['Alley', 'PoolQC', 'MiscFeature'], dtype='object') \n",
      "The length of important missing features:  3\n",
      "The length of all missing features:  34\n"
     ]
    },
    {
     "data": {
      "text/plain": [
       "<matplotlib.lines.Line2D at 0x22d3334de80>"
      ]
     },
     "execution_count": 11,
     "metadata": {},
     "output_type": "execute_result"
    },
    {
     "data": {
      "image/png": "[encoded data removed]",
      "text/plain": [
       "<Figure size 432x288 with 1 Axes>"
      ]
     },
     "metadata": {
      "needs_background": "light"
     },
     "output_type": "display_data"
    }
   ],
   "source": [
    "missing = features.isnull().sum() #NaN in numeric arrays, None or NaN in object arrays, NaT in datetimelike \n",
    "#Returns bool or array-like of bool\n",
    "# Series: One-dimensional ndarray with axis labels (index).\n",
    "\n",
    "#print(missing[:7],\"\\nType of missing var: \",type(missing),\"; \\ntype of train: \",type(train))\n",
    "\n",
    "missing_all = missing[missing > 0]\n",
    "missing_important = missing[ missing >= (0.9 * features.shape[0])]\n",
    "print(\"Missing features who's important:\",missing_important.index, \"\\nThe length of important missing features: \", len(missing_important))\n",
    "print(\"The length of all missing features: \", len(missing_all))\n",
    "missing_all.sort_values(inplace=True)\n",
    "missing_all.plot.bar()\n",
    "plt.axhline(y= (len(features)/2), color='r', linestyle=':')"
   ]
  },
  {
   "cell_type": "code",
   "execution_count": 12,
   "metadata": {},
   "outputs": [
    {
     "name": "stdout",
     "output_type": "stream",
     "text": [
      "['Ex' 'Fa' 'Gd']\n",
      "['Shed' 'Gar2' 'Othr' 'TenC']\n",
      "['Grvl' 'Pave']\n"
     ]
    }
   ],
   "source": [
    "print(train[train['PoolQC'].notnull()][\"PoolQC\"].unique()) #train['PoolQC'].isnull()\n",
    "print(train[train['MiscFeature'].notnull()][\"MiscFeature\"].unique())\n",
    "print(train[train['Alley'].notnull()][\"Alley\"].unique())"
   ]
  },
  {
   "cell_type": "code",
   "execution_count": 13,
   "metadata": {},
   "outputs": [],
   "source": [
    "####用0替换掉缺失值。 \n",
    "#GarageYrBlt, GarageArea and GarageCars: NA代表没有车库，用0替换掉缺失值。 \n",
    "for col in ('GarageYrBlt', 'GarageArea', 'GarageCars'):    \n",
    "    features[col] = features[col].fillna(0)   \n",
    "#BsmtFinSF1, BsmtFinSF2, BsmtUnfSF, TotalBsmtSF, BsmtFullBath and BsmtHalfBath: 都是地下室特征，缺失值代表没有地下室，可以用0代替缺失值。 \n",
    "for col in ('BsmtFinSF1', 'BsmtFinSF2', 'BsmtUnfSF','TotalBsmtSF', 'BsmtFullBath', 'BsmtHalfBath'):     \n",
    "    features[col] = features[col].fillna(0) \n",
    "#MasVnrArea and MasVnrType: NA 意味着这些房子都没有表层砌体。我们可以面积填0，类型填None。 \n",
    "features['MasVnrType'] = features['MasVnrType'].fillna('None') \n",
    "features['MasVnrArea'] = features['MasVnrArea'].fillna(0) \n",
    "\n",
    "#### 用None替代缺失值\n",
    "#PoolQC : NA意味着没有泳池。\n",
    "features['PoolQC'] = features['PoolQC'].fillna('None') \n",
    "#MiscFeature: NA 意味着没有未包含在其他类别里的混杂特征。 \n",
    "features['MiscFeature'] = features['MiscFeature'].fillna('None') \n",
    "#Alley: NA 意味着没有小巷。\n",
    "features['Alley'] = features['Alley'].fillna('None') \n",
    "#Fence: NA 意味着没有栅栏。\n",
    "features['Fence'] = features['Fence'].fillna('None') \n",
    "#FireplaceQu: NA 意味着没有壁炉。\n",
    "features['FireplaceQu'] =features['FireplaceQu'].fillna('None') \n",
    "#GarageType, GarageFinish, GarageQual and GarageCond: 用None代替缺失值。 \n",
    "for col in ('GarageType', 'GarageFinish', 'GarageQual', 'GarageCond'): \n",
    "    features[col] = features[col].fillna('None') \n",
    "#BsmtQual, HasBsmt,BsmtCond, BsmtExposure, BsmtFinType1 and BsmtFinType2: 这些都是地窖特征，NaN 意味着这里没有地窖。 \n",
    "for col in ('BsmtQual','BsmtCond', 'BsmtExposure', 'BsmtFinType1', 'BsmtFinType2'):     \n",
    "    features[col] = features[col].fillna('None') \n",
    "                   \n",
    "#MSSubClass:  NA很可能意味着没有建筑等级。\n",
    "features['MSSubClass'] = features['MSSubClass'].fillna('None')      \n",
    "\n",
    "####用常见值替代缺失值\n",
    "#MSZoning : 出售中的区域类型。用常见的RL填充缺失值NA。 \n",
    "features['MSZoning'] = features['MSZoning'].fillna(train['MSZoning'].mode()[0])\n",
    "#Functional:家庭功能评级。用常见的Typ填补缺失值NA。\n",
    "features['Functional'] =features['Functional'].fillna('Typ') \n",
    "#Electrical: 电力系统。用主要的SBrkr填补缺失值NA。 \n",
    "features['Electrical'] = features['Electrical'].fillna(train['Electrical'].mode()[0])\n",
    "#KitchenQual:厨房质量。用常见的TA填补缺失值NA。 \n",
    "features['KitchenQual'] = features['KitchenQual'].fillna(train['KitchenQual'].mode()[0])\n",
    "#Exterior1st and Exterior2nd:房屋外部遮盖物。 1和2都只有一个缺失的值。替换成最常见的字符串VinylSd。 \n",
    "features['Exterior1st'] = features['Exterior1st'].fillna(train['Exterior1st'].mode()[0]) \n",
    "features['Exterior2nd'] = features['Exterior2nd'].fillna(train['Exterior2nd'].mode()[0])\n",
    "#SaleType: 售卖类型。填入最常见的\"WD\"  。\n",
    "features['SaleType'] = features['SaleType'].fillna('WD' )\n",
    "\n",
    "# LotFrontage这个特征与LotFrontage和Neighborhood有比较大的关系，所以这里用这两个特征分组后的中位数进行插补。\n",
    "features['LotFrontage'] = features.groupby('Neighborhood')['LotFrontage'].transform(lambda x: x.fillna(x.median()))\n",
    "\n",
    "#Utilities: 只有训练集中有一个“NoSewa”，所以这个特性对预测建模没有帮助。\n",
    "features.drop(['Utilities'], axis=1, inplace=True)"
   ]
  },
  {
   "cell_type": "code",
   "execution_count": 14,
   "metadata": {},
   "outputs": [
    {
     "name": "stderr",
     "output_type": "stream",
     "text": [
      "C:\\Users\\ooo\\AppData\\Local\\R-MINI~1\\lib\\site-packages\\ipykernel\\ipkernel.py:287: DeprecationWarning: `should_run_async` will not call `transform_cell` automatically in the future. Please pass the result to `transformed_cell` argument and any exception that happen during thetransform in `preprocessing_exc_tuple` in IPython 7.17 and above.\n",
      "  and should_run_async(code)\n"
     ]
    },
    {
     "data": {
      "text/plain": [
       "(array(['AllPub', 'NoSeWa'], dtype=object),\n",
       " array(['AllPub', nan], dtype=object))"
      ]
     },
     "execution_count": 14,
     "metadata": {},
     "output_type": "execute_result"
    }
   ],
   "source": [
    "train['Utilities'].unique(), test['Utilities'].unique()"
   ]
  },
  {
   "cell_type": "code",
   "execution_count": 15,
   "metadata": {},
   "outputs": [
    {
     "name": "stdout",
     "output_type": "stream",
     "text": [
      "The length of all missing features now:  0\n"
     ]
    }
   ],
   "source": [
    "missing_now = features.isnull().sum()\n",
    "print(\"The length of all missing features now: \", len(missing_now[missing_now > 0]))"
   ]
  },
  {
   "cell_type": "markdown",
   "metadata": {},
   "source": [
    "### 正态分布"
   ]
  },
  {
   "cell_type": "code",
   "execution_count": 16,
   "metadata": {},
   "outputs": [
    {
     "name": "stderr",
     "output_type": "stream",
     "text": [
      "C:\\Users\\ooo\\AppData\\Local\\R-MINI~1\\lib\\site-packages\\seaborn\\distributions.py:2619: FutureWarning: `distplot` is a deprecated function and will be removed in a future version. Please adapt your code to use either `displot` (a figure-level function with similar flexibility) or `histplot` (an axes-level function for histograms).\n",
      "  warnings.warn(msg, FutureWarning)\n",
      "C:\\Users\\ooo\\AppData\\Local\\R-MINI~1\\lib\\site-packages\\seaborn\\distributions.py:2619: FutureWarning: `distplot` is a deprecated function and will be removed in a future version. Please adapt your code to use either `displot` (a figure-level function with similar flexibility) or `histplot` (an axes-level function for histograms).\n",
      "  warnings.warn(msg, FutureWarning)\n",
      "C:\\Users\\ooo\\AppData\\Local\\R-MINI~1\\lib\\site-packages\\seaborn\\distributions.py:2619: FutureWarning: `distplot` is a deprecated function and will be removed in a future version. Please adapt your code to use either `displot` (a figure-level function with similar flexibility) or `histplot` (an axes-level function for histograms).\n",
      "  warnings.warn(msg, FutureWarning)\n"
     ]
    },
    {
     "data": {
      "text/plain": [
       "<matplotlib.legend.Legend at 0x22d31df67f0>"
      ]
     },
     "execution_count": 16,
     "metadata": {},
     "output_type": "execute_result"
    },
    {
     "data": {
      "image/png": "[encoded data removed]",
      "text/plain": [
       "<Figure size 432x288 with 1 Axes>"
      ]
     },
     "metadata": {
      "needs_background": "light"
     },
     "output_type": "display_data"
    }
   ],
   "source": [
    "sns.distplot(y, kde=False, fit=stats.johnsonsu, label ='Johnson SU')\n",
    "sns.distplot(y, kde=False, fit=stats.norm , label= 'Normal')\n",
    "sns.distplot(y, kde=False, fit=stats.lognorm, label = 'Log Normal')\n",
    "plt.legend()"
   ]
  },
  {
   "cell_type": "code",
   "execution_count": 17,
   "metadata": {},
   "outputs": [
    {
     "name": "stdout",
     "output_type": "stream",
     "text": [
      "Skewness: 1.881296\n",
      "Kurtosis: 6.523067\n"
     ]
    },
    {
     "name": "stderr",
     "output_type": "stream",
     "text": [
      "C:\\Users\\ooo\\AppData\\Local\\R-MINI~1\\lib\\site-packages\\ipykernel\\ipkernel.py:287: DeprecationWarning: `should_run_async` will not call `transform_cell` automatically in the future. Please pass the result to `transformed_cell` argument and any exception that happen during thetransform in `preprocessing_exc_tuple` in IPython 7.17 and above.\n",
      "  and should_run_async(code)\n"
     ]
    }
   ],
   "source": [
    "print('Skewness: %f' % y.skew())\n",
    "print('Kurtosis: %f' % y.kurt())"
   ]
  },
  {
   "cell_type": "code",
   "execution_count": 18,
   "metadata": {},
   "outputs": [
    {
     "name": "stderr",
     "output_type": "stream",
     "text": [
      "C:\\Users\\ooo\\AppData\\Local\\R-MINI~1\\lib\\site-packages\\seaborn\\distributions.py:2619: FutureWarning: `distplot` is a deprecated function and will be removed in a future version. Please adapt your code to use either `displot` (a figure-level function with similar flexibility) or `histplot` (an axes-level function for histograms).\n",
      "  warnings.warn(msg, FutureWarning)\n"
     ]
    },
    {
     "data": {
      "text/plain": [
       "<AxesSubplot:title={'center':'Normal'}, xlabel='SalePrice'>"
      ]
     },
     "execution_count": 18,
     "metadata": {},
     "output_type": "execute_result"
    },
    {
     "data": {
      "image/png": "[encoded data removed]",
      "text/plain": [
       "<Figure size 432x288 with 1 Axes>"
      ]
     },
     "metadata": {
      "needs_background": "light"
     },
     "output_type": "display_data"
    }
   ],
   "source": [
    "y = np.log(1+y)\n",
    "plt.figure(1); plt.title('Normal')\n",
    "sns.distplot(y, kde=False, fit=stats.norm)"
   ]
  },
  {
   "cell_type": "code",
   "execution_count": 19,
   "metadata": {},
   "outputs": [
    {
     "name": "stderr",
     "output_type": "stream",
     "text": [
      "C:\\Users\\ooo\\AppData\\Local\\R-MINI~1\\lib\\site-packages\\ipykernel\\ipkernel.py:287: DeprecationWarning: `should_run_async` will not call `transform_cell` automatically in the future. Please pass the result to `transformed_cell` argument and any exception that happen during thetransform in `preprocessing_exc_tuple` in IPython 7.17 and above.\n",
      "  and should_run_async(code)\n"
     ]
    },
    {
     "data": {
      "image/png": "[encoded data removed]",
      "text/plain": [
       "<Figure size 576x504 with 1 Axes>"
      ]
     },
     "metadata": {},
     "output_type": "display_data"
    }
   ],
   "source": [
    "sns.set_style('white')\n",
    "f, ax = plt.subplots(figsize=(8, 7))\n",
    "ax.set_xscale('log')\n",
    "ax = sns.boxplot(data=features[quantitative] , orient='h', palette='Set1')\n",
    "ax.xaxis.grid(False)\n",
    "ax.set(ylabel='Feature names')\n",
    "ax.set(xlabel='Numeric values')\n",
    "ax.set(title='Numeric Distribution of Features')\n",
    "sns.despine(trim=True, left=True)"
   ]
  },
  {
   "cell_type": "code",
   "execution_count": 20,
   "metadata": {},
   "outputs": [
    {
     "name": "stdout",
     "output_type": "stream",
     "text": [
      "There are 25 quantitative features with Skew > 0.5 :\n"
     ]
    },
    {
     "name": "stderr",
     "output_type": "stream",
     "text": [
      "C:\\Users\\ooo\\AppData\\Local\\R-MINI~1\\lib\\site-packages\\ipykernel\\ipkernel.py:287: DeprecationWarning: `should_run_async` will not call `transform_cell` automatically in the future. Please pass the result to `transformed_cell` argument and any exception that happen during thetransform in `preprocessing_exc_tuple` in IPython 7.17 and above.\n",
      "  and should_run_async(code)\n"
     ]
    }
   ],
   "source": [
    "skew_features = features[quantitative].apply(lambda x: skew(x)).sort_values(ascending=False)\n",
    "\n",
    "high_skew = skew_features[skew_features > 0.5]\n",
    "skew_index = high_skew.index\n",
    "print('There are {} quantitative features with Skew > 0.5 :'.format(high_skew.shape[0]))\n",
    "#skewness = pd.DataFrame({'Skew' :high_skew})"
   ]
  },
  {
   "cell_type": "code",
   "execution_count": 21,
   "metadata": {},
   "outputs": [
    {
     "name": "stderr",
     "output_type": "stream",
     "text": [
      "C:\\Users\\ooo\\AppData\\Local\\R-MINI~1\\lib\\site-packages\\scipy\\stats\\stats.py:3913: PearsonRConstantInputWarning: An input array is constant; the correlation coefficent is not defined.\n",
      "  warnings.warn(PearsonRConstantInputWarning())\n",
      "C:\\Users\\ooo\\AppData\\Local\\R-MINI~1\\lib\\site-packages\\scipy\\stats\\stats.py:3943: PearsonRNearConstantInputWarning: An input array is nearly constant; the computed correlation coefficent may be inaccurate.\n",
      "  warnings.warn(PearsonRNearConstantInputWarning())\n"
     ]
    }
   ],
   "source": [
    "for i in quantitative: #skew_index: #quantitative\n",
    "    features[i] = boxcox1p(features[i], boxcox_normmax(features[i] + 1))"
   ]
  },
  {
   "cell_type": "markdown",
   "metadata": {},
   "source": [
    " ### 编码分类特征"
   ]
  },
  {
   "cell_type": "code",
   "execution_count": 22,
   "metadata": {},
   "outputs": [
    {
     "data": {
      "text/plain": [
       "\"\\nfeatures = features.replace({'CentralAir': {'Y': 1,\\n                                            'N': 0}})\\nfeatures = features.replace({'PavedDrive': {'Y': 1,\\n                                            'P': 0,\\n                                            'N': 0}})\\n\""
      ]
     },
     "execution_count": 22,
     "metadata": {},
     "output_type": "execute_result"
    }
   ],
   "source": [
    "features = features.replace({'Street': {'Pave': 1, 'Grvl': 0 },\n",
    "                             'FireplaceQu': {'Ex': 5,\n",
    "                                            'Gd': 4,\n",
    "                                            'TA': 3,\n",
    "                                            'Fa': 2,\n",
    "                                            'Po': 1,\n",
    "                                            'NoFireplace': 0\n",
    "                                            },\n",
    "                             'Fence': {'GdPrv': 2,\n",
    "                                       'GdWo': 2,\n",
    "                                       'MnPrv': 1,\n",
    "                                       'MnWw': 1,\n",
    "                                       'NoFence': 0},\n",
    "                             'ExterQual': {'Ex': 5,\n",
    "                                            'Gd': 4,\n",
    "                                            'TA': 3,\n",
    "                                            'Fa': 2,\n",
    "                                            'Po': 1\n",
    "                                            },\n",
    "                             'ExterCond': {'Ex': 5,\n",
    "                                            'Gd': 4,\n",
    "                                            'TA': 3,\n",
    "                                            'Fa': 2,\n",
    "                                            'Po': 1\n",
    "                                            },\n",
    "                             'BsmtQual': {'Ex': 5,\n",
    "                                            'Gd': 4,\n",
    "                                            'TA': 3,\n",
    "                                            'Fa': 2,\n",
    "                                            'Po': 1,\n",
    "                                            'NoBsmt': 0},\n",
    "                             'BsmtExposure': {'Gd': 3,\n",
    "                                            'Av': 2,\n",
    "                                            'Mn': 1,\n",
    "                                            'No': 0,\n",
    "                                            'NoBsmt': 0},\n",
    "                             'BsmtCond': {'Ex': 5,\n",
    "                                            'Gd': 4,\n",
    "                                            'TA': 3,\n",
    "                                            'Fa': 2,\n",
    "                                            'Po': 1,\n",
    "                                            'NoBsmt': 0},\n",
    "                             'GarageQual': {'Ex': 5,\n",
    "                                            'Gd': 4,\n",
    "                                            'TA': 3,\n",
    "                                            'Fa': 2,\n",
    "                                            'Po': 1,\n",
    "                                            'NoGarage': 0},\n",
    "                             'GarageCond': {'Ex': 5,\n",
    "                                            'Gd': 4,\n",
    "                                            'TA': 3,\n",
    "                                            'Fa': 2,\n",
    "                                            'Po': 1,\n",
    "                                            'NoGarage': 0},\n",
    "                             'KitchenQual': {'Ex': 5,\n",
    "                                            'Gd': 4,\n",
    "                                            'TA': 3,\n",
    "                                            'Fa': 2,\n",
    "                                            'Po': 1},\n",
    "                             'Functional': {'Typ': 0,\n",
    "                                            'Min1': 1,\n",
    "                                            'Min2': 1,\n",
    "                                            'Mod': 2,\n",
    "                                            'Maj1': 3,\n",
    "                                            'Maj2': 4,\n",
    "                                            'Sev': 5,\n",
    "                                            'Sal': 6}\n",
    "                            })\n",
    "'''\n",
    "features = features.replace({'CentralAir': {'Y': 1,\n",
    "                                            'N': 0}})\n",
    "features = features.replace({'PavedDrive': {'Y': 1,\n",
    "                                            'P': 0,\n",
    "                                            'N': 0}})\n",
    "'''"
   ]
  },
  {
   "cell_type": "markdown",
   "metadata": {},
   "source": [
    "### 组合新特征"
   ]
  },
  {
   "cell_type": "code",
   "execution_count": 23,
   "metadata": {},
   "outputs": [],
   "source": [
    "#通过加总的特征\n",
    "#地下室面积总面积\n",
    "features['TotalBSF'] = (features['TotalBsmtSF'] + features['1stFlrSF'] +features['2ndFlrSF']\n",
    "+features['BsmtUnfSF'])\n",
    "#全屋浴室加总\n",
    "features['Total_Bathrooms'] = (features['FullBath'] + (0.5 * features['HalfBath']) +features['BsmtFullBath'] + (0.5 * features['BsmtHalfBath']))\n",
    "#地面地下房间包括浴室加总\n",
    "features['Total_Rooms'] = features['Total_Bathrooms']+  features['BedroomAbvGr'] +features['TotRmsAbvGrd']\n",
    "#门廊加总\n",
    "features['Total_porch_sf'] = (features['OpenPorchSF'] + features['3SsnPorch'] +features['EnclosedPorch'] + features['ScreenPorch'] +features['WoodDeckSF'])\n",
    "#车库面积加总\n",
    "features['Total_Garage'] = features['GarageArea']+  features['GarageCars'] \n",
    "#外部有关面积数据加总\n",
    "features['Outside_Area'] = features['Total_porch_sf']  + features['PoolArea']\n",
    "#屋内全部楼层加地下室面积加总\n",
    "features['Total_sqr'] = (features['TotalBSF'] + features['LowQualFinSF'] + features['1stFlrSF'] + features['2ndFlrSF'])\n",
    "\n",
    "#减法\n",
    "#建造，售卖时间间隔\n",
    "features['YearsSinceRemodel'] = features['YrSold'].astype(int) - features['YearBuilt'].astype(int)\n",
    "#改建，售卖时间间隔\n",
    "features['YearsSinceRemodel'] = features['YrSold'].astype(int) - features['YearRemodAdd'].astype(int)   "
   ]
  },
  {
   "cell_type": "code",
   "execution_count": 24,
   "metadata": {},
   "outputs": [
    {
     "data": {
      "text/plain": [
       "(2917, 86)"
      ]
     },
     "execution_count": 24,
     "metadata": {},
     "output_type": "execute_result"
    }
   ],
   "source": [
    "features.shape"
   ]
  },
  {
   "cell_type": "markdown",
   "metadata": {},
   "source": [
    "### 重复值过多的 constant列"
   ]
  },
  {
   "cell_type": "code",
   "execution_count": 25,
   "metadata": {},
   "outputs": [
    {
     "data": {
      "text/plain": [
       "[]"
      ]
     },
     "execution_count": 25,
     "metadata": {},
     "output_type": "execute_result"
    }
   ],
   "source": [
    "overfit = []\n",
    "for i in features.columns:\n",
    "    counts = features[i].value_counts() #降序Series containing counts个数 of unique values.\n",
    "    zeros = counts.iloc[0]\n",
    "    if zeros / len(features) * 100 > 99.94: #几乎这一列都是一个数，则认为overfit无效feature\n",
    "        overfit.append(i)\n",
    "\n",
    "overfit = list(overfit)\n",
    "overfit"
   ]
  },
  {
   "cell_type": "markdown",
   "metadata": {},
   "source": [
    "### 字符型特征的独热编码"
   ]
  },
  {
   "cell_type": "code",
   "execution_count": 26,
   "metadata": {},
   "outputs": [],
   "source": [
    "#features.info()"
   ]
  },
  {
   "cell_type": "code",
   "execution_count": 27,
   "metadata": {},
   "outputs": [
    {
     "name": "stdout",
     "output_type": "stream",
     "text": [
      "Length of qualitative features:  0\n"
     ]
    }
   ],
   "source": [
    "features = pd.get_dummies(features).reset_index(drop=True)\n",
    "print(\"Length of qualitative features: \",len([i for i in features.columns if features.dtypes[i] == 'object']))"
   ]
  },
  {
   "cell_type": "code",
   "execution_count": 28,
   "metadata": {},
   "outputs": [
    {
     "data": {
      "text/plain": [
       "(2917, 318)"
      ]
     },
     "execution_count": 28,
     "metadata": {},
     "output_type": "execute_result"
    }
   ],
   "source": [
    "features.shape"
   ]
  },
  {
   "cell_type": "markdown",
   "metadata": {},
   "source": [
    "# Model Fitting"
   ]
  },
  {
   "cell_type": "code",
   "execution_count": 29,
   "metadata": {},
   "outputs": [
    {
     "data": {
      "text/plain": [
       "((1458, 318), (1459, 318), (1458,))"
      ]
     },
     "execution_count": 29,
     "metadata": {},
     "output_type": "execute_result"
    }
   ],
   "source": [
    "x_train = features.iloc[:len(y), :]\n",
    "x_test = features.iloc[len(y):, :]\n",
    "x_train.shape, x_test.shape, y.shape #Train Set去除两个GrLivArea Outliers"
   ]
  },
  {
   "cell_type": "markdown",
   "metadata": {},
   "source": [
    "### 归一化"
   ]
  },
  {
   "cell_type": "code",
   "execution_count": 30,
   "metadata": {},
   "outputs": [],
   "source": [
    "scaler = RobustScaler()  #减去Median -> 对outlier不敏感\n",
    "x_train = scaler.fit(x_train).transform(x_train)  #训练样本特征归一化 \n",
    "x_test = scaler.transform(x_test)               #测试集样本特征归一化  "
   ]
  },
  {
   "cell_type": "markdown",
   "metadata": {},
   "source": [
    "### PCA去相关"
   ]
  },
  {
   "cell_type": "code",
   "execution_count": 31,
   "metadata": {},
   "outputs": [
    {
     "name": "stderr",
     "output_type": "stream",
     "text": [
      "C:\\Users\\ooo\\AppData\\Local\\R-MINI~1\\lib\\site-packages\\ipykernel\\ipkernel.py:287: DeprecationWarning: `should_run_async` will not call `transform_cell` automatically in the future. Please pass the result to `transformed_cell` argument and any exception that happen during thetransform in `preprocessing_exc_tuple` in IPython 7.17 and above.\n",
      "  and should_run_async(code)\n"
     ]
    },
    {
     "data": {
      "image/png": "[encoded data removed]",
      "text/plain": [
       "<Figure size 432x288 with 1 Axes>"
      ]
     },
     "metadata": {},
     "output_type": "display_data"
    }
   ],
   "source": [
    "pca = PCA()\n",
    "pca.fit(x_train)\n",
    "plt.figure()\n",
    "plt.plot(range(1, x_train.shape[1]+1), np.cumsum(pca.explained_variance_ratio_))\n",
    "plt.axhline(y=0.99,linewidth=1, color='r',linestyle = ':')\n",
    "plt.show()"
   ]
  },
  {
   "cell_type": "code",
   "execution_count": 32,
   "metadata": {},
   "outputs": [
    {
     "name": "stderr",
     "output_type": "stream",
     "text": [
      "C:\\Users\\ooo\\AppData\\Local\\R-MINI~1\\lib\\site-packages\\ipykernel\\ipkernel.py:287: DeprecationWarning: `should_run_async` will not call `transform_cell` automatically in the future. Please pass the result to `transformed_cell` argument and any exception that happen during thetransform in `preprocessing_exc_tuple` in IPython 7.17 and above.\n",
      "  and should_run_async(code)\n"
     ]
    },
    {
     "data": {
      "text/plain": [
       "'pca_model = PCA(n_components=200)\\nx_train = pca_model.fit_transform(x_train)\\nx_test = pca_model.transform(x_test)'"
      ]
     },
     "execution_count": 32,
     "metadata": {},
     "output_type": "execute_result"
    }
   ],
   "source": [
    "'''pca_model = PCA(n_components=200)\n",
    "x_train = pca_model.fit_transform(x_train)\n",
    "x_test = pca_model.transform(x_test)'''"
   ]
  },
  {
   "cell_type": "markdown",
   "metadata": {},
   "source": [
    "### K - fold"
   ]
  },
  {
   "cell_type": "code",
   "execution_count": 33,
   "metadata": {},
   "outputs": [],
   "source": [
    "kfolds = KFold(n_splits=10, shuffle=True, random_state=42)\n",
    "\n",
    "def rmsle(y, y_pred):\n",
    "    return np.sqrt(mean_squared_error(y, y_pred)) #RMSE\n",
    "\n",
    "def cv_rmse(model, X= x_train):\n",
    "    rmse = np.sqrt(-cross_val_score(model, X, y, scoring=\"neg_mean_squared_error\", cv=kfolds))\n",
    "    return (rmse)"
   ]
  },
  {
   "cell_type": "markdown",
   "metadata": {},
   "source": [
    "## Models"
   ]
  },
  {
   "cell_type": "code",
   "execution_count": 34,
   "metadata": {},
   "outputs": [],
   "source": [
    "alphas_alt = [14.5, 14.6, 14.7, 14.8, 14.9, 15, 15.1, 15.2, 15.3, 15.4, 15.5]\n",
    "alphas2 = [5e-05, 0.0001, 0.0002, 0.0003, 0.0004, 0.0005, 0.0006, 0.0007, 0.0008]\n",
    "e_alphas = [0.0001, 0.0002, 0.0003, 0.0004, 0.0005, 0.0006, 0.0007]\n",
    "e_l1ratio = [0.8, 0.85, 0.9, 0.95, 0.99, 1]"
   ]
  },
  {
   "cell_type": "code",
   "execution_count": 35,
   "metadata": {},
   "outputs": [],
   "source": [
    "#pipeline允许你封装所有的预处理步骤，特性选择，扩展，特性编码，最重要的是它帮助我们防止数据泄漏\n",
    "ridge = make_pipeline(RobustScaler(), \n",
    "                      RidgeCV(alphas=alphas_alt, cv=kfolds))\n",
    "lasso = make_pipeline(RobustScaler(), \n",
    "                      LassoCV(max_iter=1e7, alphas=alphas2, random_state=42, cv=kfolds))\n",
    "elasticnet = make_pipeline(RobustScaler(), \n",
    "                           ElasticNetCV(max_iter=1e7, alphas=e_alphas, cv=kfolds, l1_ratio=e_l1ratio))                                \n",
    "svr = make_pipeline(RobustScaler(), \n",
    "                    SVR(C= 20, epsilon= 0.008, gamma=0.0003,))"
   ]
  },
  {
   "cell_type": "code",
   "execution_count": 36,
   "metadata": {},
   "outputs": [],
   "source": [
    "gbr = GradientBoostingRegressor(n_estimators=3000, learning_rate=0.05, loss='huber', \n",
    "                                max_depth=4, max_features='sqrt', min_samples_leaf=15, min_samples_split=10, \n",
    "                                random_state =42)                             "
   ]
  },
  {
   "cell_type": "code",
   "execution_count": 37,
   "metadata": {},
   "outputs": [],
   "source": [
    "xgboost = XGBRegressor(n_estimators=3460,learning_rate=0.01, objective='reg:linear', nthread=-1,\n",
    "                        max_depth=3, min_child_weight=0, gamma=0,\n",
    "                        subsample=0.7, colsample_bytree=0.7, reg_alpha=0.00006,\n",
    "                        scale_pos_weight=1, seed=27 )"
   ]
  },
  {
   "cell_type": "code",
   "execution_count": 38,
   "metadata": {},
   "outputs": [],
   "source": [
    "stack_gen = StackingCVRegressor(regressors=(ridge, lasso, elasticnet, gbr, xgboost),\n",
    "                                meta_regressor=xgboost,\n",
    "                                use_features_in_secondary=True)"
   ]
  },
  {
   "cell_type": "code",
   "execution_count": 39,
   "metadata": {},
   "outputs": [
    {
     "name": "stdout",
     "output_type": "stream",
     "text": [
      "RIDGE: 0.1087 (0.0152)\n",
      "LASSO: 0.1064 (0.0150)\n",
      "elastic net: 0.1065 (0.0150)\n",
      "SVR: 0.1081 (0.0159)\n",
      "gbr: 0.1143 (0.0142)\n",
      "[19:47:20] WARNING: C:/Users/Administrator/workspace/xgboost-win64_release_1.4.0/src/objective/regression_obj.cu:171: reg:linear is now deprecated in favor of reg:squarederror.\n",
      "[19:47:27] WARNING: C:/Users/Administrator/workspace/xgboost-win64_release_1.4.0/src/objective/regression_obj.cu:171: reg:linear is now deprecated in favor of reg:squarederror.\n",
      "[19:47:34] WARNING: C:/Users/Administrator/workspace/xgboost-win64_release_1.4.0/src/objective/regression_obj.cu:171: reg:linear is now deprecated in favor of reg:squarederror.\n",
      "[19:47:41] WARNING: C:/Users/Administrator/workspace/xgboost-win64_release_1.4.0/src/objective/regression_obj.cu:171: reg:linear is now deprecated in favor of reg:squarederror.\n",
      "[19:47:49] WARNING: C:/Users/Administrator/workspace/xgboost-win64_release_1.4.0/src/objective/regression_obj.cu:171: reg:linear is now deprecated in favor of reg:squarederror.\n",
      "[19:47:56] WARNING: C:/Users/Administrator/workspace/xgboost-win64_release_1.4.0/src/objective/regression_obj.cu:171: reg:linear is now deprecated in favor of reg:squarederror.\n",
      "[19:48:04] WARNING: C:/Users/Administrator/workspace/xgboost-win64_release_1.4.0/src/objective/regression_obj.cu:171: reg:linear is now deprecated in favor of reg:squarederror.\n",
      "[19:48:11] WARNING: C:/Users/Administrator/workspace/xgboost-win64_release_1.4.0/src/objective/regression_obj.cu:171: reg:linear is now deprecated in favor of reg:squarederror.\n",
      "[19:48:19] WARNING: C:/Users/Administrator/workspace/xgboost-win64_release_1.4.0/src/objective/regression_obj.cu:171: reg:linear is now deprecated in favor of reg:squarederror.\n",
      "[19:48:27] WARNING: C:/Users/Administrator/workspace/xgboost-win64_release_1.4.0/src/objective/regression_obj.cu:171: reg:linear is now deprecated in favor of reg:squarederror.\n",
      "xgboost: 0.1115 (0.0149)\n"
     ]
    }
   ],
   "source": [
    "score = cv_rmse(ridge)\n",
    "print(\"RIDGE: {:.4f} ({:.4f})\".format(score.mean(), score.std()) )\n",
    "\n",
    "score = cv_rmse(lasso)\n",
    "print(\"LASSO: {:.4f} ({:.4f})\".format(score.mean(), score.std()) )\n",
    "\n",
    "score = cv_rmse(elasticnet)\n",
    "print(\"elastic net: {:.4f} ({:.4f})\".format(score.mean(), score.std()))\n",
    "\n",
    "score = cv_rmse(svr)\n",
    "print(\"SVR: {:.4f} ({:.4f})\".format(score.mean(), score.std()) )\n",
    "\n",
    "score = cv_rmse(gbr)\n",
    "print(\"gbr: {:.4f} ({:.4f})\".format(score.mean(), score.std()) )\n",
    "\n",
    "score = cv_rmse(xgboost)\n",
    "print(\"xgboost: {:.4f} ({:.4f})\".format(score.mean(), score.std()) )"
   ]
  },
  {
   "cell_type": "code",
   "execution_count": 40,
   "metadata": {},
   "outputs": [
    {
     "name": "stdout",
     "output_type": "stream",
     "text": [
      "===START Fit===========\n",
      "stack_gen\n"
     ]
    },
    {
     "name": "stderr",
     "output_type": "stream",
     "text": [
      "C:\\Users\\ooo\\AppData\\Local\\R-MINI~1\\lib\\site-packages\\ipykernel\\ipkernel.py:287: DeprecationWarning: `should_run_async` will not call `transform_cell` automatically in the future. Please pass the result to `transformed_cell` argument and any exception that happen during thetransform in `preprocessing_exc_tuple` in IPython 7.17 and above.\n",
      "  and should_run_async(code)\n"
     ]
    },
    {
     "name": "stdout",
     "output_type": "stream",
     "text": [
      "[19:49:56] WARNING: C:/Users/Administrator/workspace/xgboost-win64_release_1.4.0/src/objective/regression_obj.cu:171: reg:linear is now deprecated in favor of reg:squarederror.\n",
      "[19:50:02] WARNING: C:/Users/Administrator/workspace/xgboost-win64_release_1.4.0/src/objective/regression_obj.cu:171: reg:linear is now deprecated in favor of reg:squarederror.\n",
      "[19:50:08] WARNING: C:/Users/Administrator/workspace/xgboost-win64_release_1.4.0/src/objective/regression_obj.cu:171: reg:linear is now deprecated in favor of reg:squarederror.\n",
      "[19:50:14] WARNING: C:/Users/Administrator/workspace/xgboost-win64_release_1.4.0/src/objective/regression_obj.cu:171: reg:linear is now deprecated in favor of reg:squarederror.\n",
      "[19:50:21] WARNING: C:/Users/Administrator/workspace/xgboost-win64_release_1.4.0/src/objective/regression_obj.cu:171: reg:linear is now deprecated in favor of reg:squarederror.\n",
      "[19:50:29] WARNING: C:/Users/Administrator/workspace/xgboost-win64_release_1.4.0/src/objective/regression_obj.cu:171: reg:linear is now deprecated in favor of reg:squarederror.\n",
      "[19:50:57] WARNING: C:/Users/Administrator/workspace/xgboost-win64_release_1.4.0/src/objective/regression_obj.cu:171: reg:linear is now deprecated in favor of reg:squarederror.\n",
      "elasticnet\n",
      "Lasso\n",
      "Ridge\n",
      "Svr\n",
      "GradientBoosting\n",
      "xgboost\n",
      "[19:51:24] WARNING: C:/Users/Administrator/workspace/xgboost-win64_release_1.4.0/src/objective/regression_obj.cu:171: reg:linear is now deprecated in favor of reg:squarederror.\n"
     ]
    }
   ],
   "source": [
    "print('===START Fit===========')\n",
    "\n",
    "print('stack_gen')\n",
    "stack_gen_model = stack_gen.fit(np.array(x_train), np.array(y))\n",
    "\n",
    "print('elasticnet')\n",
    "elastic_model_full_data = elasticnet.fit(x_train, y)\n",
    "\n",
    "print('Lasso')\n",
    "lasso_model_full_data = lasso.fit(x_train, y)\n",
    "\n",
    "print('Ridge')\n",
    "ridge_model_full_data = ridge.fit(x_train, y)\n",
    "\n",
    "print('Svr')\n",
    "svr_model_full_data = svr.fit(x_train, y)\n",
    "\n",
    "print('GradientBoosting')\n",
    "gbr_model_full_data = gbr.fit(x_train, y)\n",
    "\n",
    "print('xgboost')\n",
    "xgb_model_full_data = xgboost.fit(x_train, y)"
   ]
  },
  {
   "cell_type": "markdown",
   "metadata": {},
   "source": [
    "# Blending Models"
   ]
  },
  {
   "cell_type": "code",
   "execution_count": 41,
   "metadata": {},
   "outputs": [
    {
     "name": "stderr",
     "output_type": "stream",
     "text": [
      "C:\\Users\\ooo\\AppData\\Local\\R-MINI~1\\lib\\site-packages\\ipykernel\\ipkernel.py:287: DeprecationWarning: `should_run_async` will not call `transform_cell` automatically in the future. Please pass the result to `transformed_cell` argument and any exception that happen during thetransform in `preprocessing_exc_tuple` in IPython 7.17 and above.\n",
      "  and should_run_async(code)\n"
     ]
    }
   ],
   "source": [
    "def blend_models_predict(x_train):\n",
    "    return ((0.1 * elastic_model_full_data.predict(x_train)) + \\\n",
    "            (0.05 * lasso_model_full_data.predict(x_train)) + \\\n",
    "            (0.1 * ridge_model_full_data.predict(x_train)) + \\\n",
    "            (0.15 * svr_model_full_data.predict(x_train)) + \\\n",
    "            (0.15 * gbr_model_full_data.predict(x_train)) + \\\n",
    "            (0.2 * xgb_model_full_data.predict(x_train)) + \\\n",
    "            (0.25 * stack_gen_model.predict(np.array(x_train))))"
   ]
  },
  {
   "cell_type": "code",
   "execution_count": 42,
   "metadata": {},
   "outputs": [
    {
     "name": "stdout",
     "output_type": "stream",
     "text": [
      "RMSLE score on train data:\n",
      "0.059961183691736315\n"
     ]
    }
   ],
   "source": [
    "print('RMSLE score on train data:')\n",
    "print(rmsle(y, blend_models_predict(x_train)))"
   ]
  },
  {
   "cell_type": "markdown",
   "metadata": {},
   "source": [
    "# Submission"
   ]
  },
  {
   "cell_type": "code",
   "execution_count": 43,
   "metadata": {},
   "outputs": [
    {
     "name": "stderr",
     "output_type": "stream",
     "text": [
      "C:\\Users\\ooo\\AppData\\Local\\R-MINI~1\\lib\\site-packages\\ipykernel\\ipkernel.py:287: DeprecationWarning: `should_run_async` will not call `transform_cell` automatically in the future. Please pass the result to `transformed_cell` argument and any exception that happen during thetransform in `preprocessing_exc_tuple` in IPython 7.17 and above.\n",
      "  and should_run_async(code)\n"
     ]
    }
   ],
   "source": [
    "submission = pd.read_csv('sample_submission.csv')\n",
    "submission.iloc[:,1] = np.floor(np.expm1(blend_models_predict(x_test)))\n",
    "\n",
    "q1 = submission['SalePrice'].quantile(0.0045)\n",
    "q2 = submission['SalePrice'].quantile(0.99)\n",
    "\n",
    "# 极大极小值 预测效果过于保守 -> 特殊处理\n",
    "submission['SalePrice'] = submission['SalePrice'].apply(lambda x: x if x > q1 else x*0.77)\n",
    "submission['SalePrice'] = submission['SalePrice'].apply(lambda x: x if x < q2 else x*1.1)\n",
    "\n",
    "submission.to_csv(\"submission_version.csv\", index=False)"
   ]
  },
  {
   "cell_type": "code",
   "execution_count": 44,
   "metadata": {},
   "outputs": [
    {
     "name": "stderr",
     "output_type": "stream",
     "text": [
      "C:\\Users\\ooo\\AppData\\Local\\R-MINI~1\\lib\\site-packages\\ipykernel\\ipkernel.py:287: DeprecationWarning: `should_run_async` will not call `transform_cell` automatically in the future. Please pass the result to `transformed_cell` argument and any exception that happen during thetransform in `preprocessing_exc_tuple` in IPython 7.17 and above.\n",
      "  and should_run_async(code)\n"
     ]
    },
    {
     "data": {
      "text/html": [
       "<div>\n",
       "<style scoped>\n",
       "    .dataframe tbody tr th:only-of-type {\n",
       "        vertical-align: middle;\n",
       "    }\n",
       "\n",
       "    .dataframe tbody tr th {\n",
       "        vertical-align: top;\n",
       "    }\n",
       "\n",
       "    .dataframe thead th {\n",
       "        text-align: right;\n",
       "    }\n",
       "</style>\n",
       "<table border=\"1\" class=\"dataframe\">\n",
       "  <thead>\n",
       "    <tr style=\"text-align: right;\">\n",
       "      <th></th>\n",
       "      <th>Id</th>\n",
       "      <th>SalePrice</th>\n",
       "    </tr>\n",
       "  </thead>\n",
       "  <tbody>\n",
       "    <tr>\n",
       "      <th>0</th>\n",
       "      <td>1461</td>\n",
       "      <td>121603.0</td>\n",
       "    </tr>\n",
       "    <tr>\n",
       "      <th>1</th>\n",
       "      <td>1462</td>\n",
       "      <td>162741.0</td>\n",
       "    </tr>\n",
       "    <tr>\n",
       "      <th>2</th>\n",
       "      <td>1463</td>\n",
       "      <td>185423.0</td>\n",
       "    </tr>\n",
       "    <tr>\n",
       "      <th>3</th>\n",
       "      <td>1464</td>\n",
       "      <td>201638.0</td>\n",
       "    </tr>\n",
       "    <tr>\n",
       "      <th>4</th>\n",
       "      <td>1465</td>\n",
       "      <td>183879.0</td>\n",
       "    </tr>\n",
       "  </tbody>\n",
       "</table>\n",
       "</div>"
      ],
      "text/plain": [
       "     Id  SalePrice\n",
       "0  1461   121603.0\n",
       "1  1462   162741.0\n",
       "2  1463   185423.0\n",
       "3  1464   201638.0\n",
       "4  1465   183879.0"
      ]
     },
     "execution_count": 44,
     "metadata": {},
     "output_type": "execute_result"
    }
   ],
   "source": [
    "submission.head()"
   ]
  },
  {
   "cell_type": "markdown",
   "metadata": {},
   "source": [
    "\n",
    "### 步骤 0： 销售的log对数转换。\n",
    "因变量的对数变换。预测销售对数而不是销售额有两个原因：\n",
    "- 首先，评估指标取决于销售对数，\n",
    "- 其次，许多货币实体的分布接近对数正态，即重尾分布。\n",
    "通常最好预测不是重尾的 smt（老实说，我试图预测销售本身，结果更糟）。\n",
    "\n",
    "### 第 1 步： 重新编码预测变量/缺失值/异常值。\n",
    "一些有序的预测变量（即它们的值具有自然顺序）最初存储为因子。我以一种明智的方式对它们重新编码（有许多很棒的内核详细描述了如何做到这一点；此类预测器的示例是 ExterQual 和 BsmtCond）。\n",
    "\n",
    "显然我必须填写缺失值 - 数值预测变量中的缺失值我在有意义时用零填充（例如，如果地下室没有浴缸，BsmtFullBath 应该等于零），分类预测变量中的缺失我用模式填充或其他典型值。\n",
    "\n",
    "最后，许多用户建议在预测变量 OverallQual 和 GrLivArea 中删除带有异常值的观察值——这是值得做的。\n",
    "\n",
    "### 第 2 步：非线性。\n",
    "由于我计划使用线性方法（套索、岭、svm），我用它们的**对数替换了所有重尾预测变量**，并为一些预测变量**添加了它们的平方**（即我们有预测变量 X，我们添加了预测变量 X^2）。\n",
    "\n",
    "用对数替换重尾预测变量的动机是 :\n",
    "- a) 线性方法可能适合具有非常小的权重的此类预测变量，并且值中包含的大部分信息可能会丢失 \n",
    "- b) 当此类预测变量取非常高的值时的预测可能是也非常高或具有误导性。\n",
    "\n",
    "添加平方的动机是:\n",
    "- 散点图中的非线性“predictor vs. log of sales” - 我们假设当我们将预测变量添加到多维模型时，类似的非线性也将成立）。例如，检查 BsmtQual 与log_sales的散点图.\n",
    "\n",
    "\n",
    "### 第 3 步：新的predictor。 \n",
    "对于某些预测变量，如果相应的预测变量取特定值，则有助于添加等于 1 的指标变量。 \n",
    "\n",
    "我选择了基于散点图的预测变量和它们的值——如果在散点图上“预测变量与销售对数”对于预测变量的某个值，对数销售或非线性的值出现峰值，则预测变量的值是 一个很好的候选人。\n",
    "\n",
    "这种非线性的例子可以在下面找到。 Scatterlot 显示了 BsmtFinType1 与销售日志的重新编码值。 在模型中，当 BsmtFinType1 = 1（对应于 BsmtFinType1 等于 Unf）时，我添加了等于 1 的指标：\n",
    "\n",
    "### 第四步：堆叠。\n",
    "作为下一步，我使用了 10 折交叉验证和堆叠：对于每次“运行”交叉验证，我在 10 折中的 9 折（套索、脊、弹性网、GBM 和 LGB）上拟合 5 个模型，进行预测并使用这五组预测作为另一个套索模型的输入来预测该左折叠上的销售日志（这种套索模型称为元模型）。我们总共有 6*10=60 个模型 - 10 组 6 个模型。我使用所有这些模型进行最终预测：我们采用测试数据集，使用 5 个子模型进行预测，然后使用这些模型的输出作为相应元模型的输入，以获得给定模型集的预测集；我们重复这个过程 10 次以获得 10 组预测，然后使用算术平均值对它们进行平均以获得用于提交的数据。\n",
    "\n",
    "步骤 0-4 在 LB 上给了我 0.120 左右的 smt。\n",
    "\n",
    "### 第五步：调参。\n",
    "对于堆叠，我使用了 6 个不同的模型，每个模型都需要调整（对于每次“运行”交叉验证，我拟合 6 个具有始终相同参数的模型，例如，我们还拟合正则化参数等于 9.0 的 ridge）。我花了很多时间和提交来微调参数（最好的改进是为 GradientBoostingRegressor 调整 min_samples_leaf 和 min_samples_split）。最终我得到了 0.1188 左右的 smt 并且确信我无法通过调整来改进它。\n",
    "\n",
    "### 第 6 步：更多缺失值。\n",
    "接下来我尝试了不同的填充缺失值的策略（众数/均值/中位数/等）。\n",
    "\n",
    "最有效的方法在某种程度上是出乎意料的：它基于 R 中的鼠标包，并在此处进行了描述 - https://www.kaggle.com/couyang/svm-benchmark-approach-0-11820-lb-top-13 .首先，我尝试在我的 Python 代码中使用从 R/mice 获得的数据集进行堆叠，然后我尝试以合理的方式预填充一些缺失值并在顶部使用鼠标，但 smt 给出了最佳结果。我在没有任何转换或清理的情况下获取训练数据集，在顶部使用鼠标，然后安装 SVM。\n",
    "\n",
    "基本上，我可以通过 https://www.kaggle.com/couyang 本身重新使用代码 - 没有异常值清理，没有特征转换，只有鼠标和 svm，没有别的。使用 R/mice/svm 和 python/stacking 并取这些预测的几何平均值，我在 LB 上得到了 0.11505，这已经很棒了。出乎意料的是，这种简单且非业务驱动的填充异常值的方法奏效了。请注意，当应该为零时，老鼠可能会用 smt 不等于零来填充数值预测变量中的缺失。我想这种方法对我有帮助，因为它与我在 python 中得到的完全不同。\n",
    "\n",
    "### 第七步：蛮力。\n",
    "我已经对 0.11505 感到满意，但我最后还想尝试。回归通常不适用于边缘情况 - 对于预测变量的小值或大值。我坐火车，运行 R/mice/svm，python/stacking，使用几何平均值对结果求平均，得到销售日志的最终预测，并将它们与实际值的日志进行对比：\n",
    "从图中可以明显看出，对于小的最终预测，我们高估了销售额，对于大的预测值，我们低估了。我尝试在 R 中拟合样条（自然/平滑）和局部回归，并在测试集上使用它们。它立即给了我改进。最终和最佳提交基于 smt，这是非常残酷的：我们采用预测销售额（不是对数，而是销售额），采用最高和最低百分位数并手动增加/减少预测。这最终给了我 0.10943 的 LB。此外，很明显，手动更改预测值的蛮力方法比其他任何方法都更过度拟合，因为它背后没有太多的商业动机（即使使用样条对生产模型也更好）。需要注意的是，这种蛮力方法可以改善对少量观察的预测，但这似乎足以提高 LB 的分数。\n",
    "\n",
    "### 其他一些没有帮助的事情包括 \n",
    "- a) PCA \n",
    "- b) 添加越来越多的预测器 \n",
    "- c) 添加随机森林、KRR、SVM、xgboost 到堆叠 \n",
    "- d) 在 tensorflow 和缩放 + 密集神经网络上使用 keras。\n",
    "\n",
    "### 总结：\n",
    "我会说生产版本的评估指标约为 0.12，因为可以构建简单的模型来给出这样的结果。有趣的事情有帮助：添加一些预测变量的平方，在原始数据之上使用 R 中的 mouse+svm，使用边缘预测（非常低或非常高）。\n",
    "\n",
    "注意，kaggle 似乎不支持在一个笔记本中同时使用 R 和 python，所以我不得不注释 R 代码。此外，我在 30 倍交叉验证中使用堆叠（在我的笔记本电脑上大约需要 10 分钟才能适应所有模型），但在这里它由于超时而停止。"
   ]
  }
 ],
 "metadata": {
  "kernelspec": {
   "display_name": "Python 3",
   "language": "python",
   "name": "python3"
  },
  "language_info": {
   "codemirror_mode": {
    "name": "ipython",
    "version": 3
   },
   "file_extension": ".py",
   "mimetype": "text/x-python",
   "name": "python",
   "nbconvert_exporter": "python",
   "pygments_lexer": "ipython3",
   "version": "3.8.5"
  }
 },
 "nbformat": 4,
 "nbformat_minor": 4
}
